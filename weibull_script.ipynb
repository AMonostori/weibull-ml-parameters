{
  "cells": [
    {
      "cell_type": "markdown",
      "metadata": {},
      "source": [
        "Import packages"
      ]
    },
    {
      "cell_type": "code",
      "execution_count": 1,
      "metadata": {},
      "outputs": [],
      "source": [
        "import math\n",
        "import numpy as np"
      ]
    },
    {
      "cell_type": "markdown",
      "metadata": {},
      "source": [
        "1. Finding k "
      ]
    },
    {
      "cell_type": "code",
      "execution_count": 2,
      "metadata": {
        "colab": {
          "base_uri": "https://localhost:8080/"
        },
        "id": "tIu20LJxmlGY",
        "outputId": "4ab8417d-824d-4ba5-9fac-9ca2e8505263"
      },
      "outputs": [
        {
          "name": "stdout",
          "output_type": "stream",
          "text": [
            "Best k estimate is:  1.7757575757575759\n",
            "Best approach is:  -0.0068363382071739975\n"
          ]
        }
      ],
      "source": [
        "#defining the pre-defined sample and a sequence\n",
        "\n",
        "smple = np.array([3.35,1.46,1.06,0.74,5.27,2.4,1.01,2.31,2.66])\n",
        "squence = np.linspace(0.1,8,100)\n",
        "\n",
        "def find_k(x, k_list):\n",
        "\n",
        "    min = np.inf\n",
        "    best_k = 0\n",
        "\n",
        "    for k in k_list:\n",
        "        log_sum = np.sum((x ** k) * np.log(x))\n",
        "        sum = np.sum(x ** k)\n",
        "        log = np.sum(np.log(x))\n",
        "\n",
        "        estimate = log_sum / sum - 1/k - (1/len(x)) * log\n",
        "        #print(estimate)\n",
        "\n",
        "        if (abs(estimate) < abs(min)):\n",
        "            min = estimate\n",
        "            best_k = k\n",
        "\n",
        "    return best_k, min\n",
        "\n",
        "k, min = find_k(smple, squence)\n",
        "\n",
        "print('Best k estimate is: ', k)\n",
        "print('Best approach is: ', min)\n",
        "    \n"
      ]
    },
    {
      "cell_type": "markdown",
      "metadata": {},
      "source": [
        "2. Finding lambda"
      ]
    },
    {
      "cell_type": "code",
      "execution_count": 3,
      "metadata": {
        "colab": {
          "base_uri": "https://localhost:8080/"
        },
        "id": "_WlJkvUfu19E",
        "outputId": "d0d2cc0c-ec00-43d2-fcc7-b32594dfb925"
      },
      "outputs": [
        {
          "name": "stdout",
          "output_type": "stream",
          "text": [
            "2.5426265747959778\n"
          ]
        }
      ],
      "source": [
        "def find_lambda(x, k):\n",
        "\n",
        "    maxim = 0\n",
        "    frac = 1/k\n",
        "    sum = np.sum(x ** k)\n",
        "\n",
        "    LML = (sum/len(x))**frac\n",
        "   # if LML > max:\n",
        "    #    LML = maxim\n",
        "    return LML\n",
        "\n",
        "Lambda = find_lambda(smple, k)\n",
        "print(Lambda)"
      ]
    },
    {
      "cell_type": "markdown",
      "metadata": {},
      "source": [
        "Defining Weibull distribution"
      ]
    },
    {
      "cell_type": "code",
      "execution_count": 32,
      "metadata": {
        "colab": {
          "base_uri": "https://localhost:8080/"
        },
        "id": "sb6h1ZS1AMaM",
        "outputId": "afc65d9c-d661-4761-e56a-6e8c4afb97ea"
      },
      "outputs": [
        {
          "name": "stdout",
          "output_type": "stream",
          "text": [
            "[0.168595592651971, 0.31260052956089973, 0.28736179330580813, 0.24086527853039916, 0.032104810462396854, 0.2699927847401392, 0.281741585569188, 0.27814237138655423, 0.2439535652307441]\n",
            "0.31260052956089973\n"
          ]
        }
      ],
      "source": [
        "def funct(x,k,l):\n",
        "\n",
        "  myset = []\n",
        "  for i in x:\n",
        "      tag1 = k/l\n",
        "      tag2 = (i/l)**(k-1)\n",
        "      power = (i/l)**k\n",
        "      variable = tag1*tag2*1/((math.exp(power)))\n",
        "      myset.append(variable)\n",
        "\n",
        "  return(myset)\n",
        "\n",
        "distribution = funct(smple,1.77,2.54)\n",
        "maxpoint = np.max(distribution)\n",
        "print(distribution)\n",
        "print(maxpoint)\n"
      ]
    },
    {
      "cell_type": "code",
      "execution_count": 33,
      "metadata": {},
      "outputs": [
        {
          "data": {
            "image/png": "[encoded data removed]",
            "text/plain": [
              "<Figure size 640x480 with 1 Axes>"
            ]
          },
          "metadata": {},
          "output_type": "display_data"
        }
      ],
      "source": [
        "import matplotlib.pyplot as plt\n",
        "\n",
        "plt.scatter(smple, a)\n",
        "plt.show()"
      ]
    }
  ],
  "metadata": {
    "colab": {
      "collapsed_sections": [],
      "name": "Matalap_1.HF _MonostoriA.ipynb",
      "provenance": []
    },
    "kernelspec": {
      "display_name": "Python 3",
      "name": "python3"
    },
    "language_info": {
      "codemirror_mode": {
        "name": "ipython",
        "version": 3
      },
      "file_extension": ".py",
      "mimetype": "text/x-python",
      "name": "python",
      "nbconvert_exporter": "python",
      "pygments_lexer": "ipython3",
      "version": "3.9.13"
    }
  },
  "nbformat": 4,
  "nbformat_minor": 0
}
